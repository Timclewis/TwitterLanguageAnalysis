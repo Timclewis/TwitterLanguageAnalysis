{
 "cells": [
  {
   "cell_type": "markdown",
   "metadata": {
    "collapsed": true,
    "pycharm": {
     "name": "#%% md\n"
    }
   },
   "source": [
    "## 1. Imports"
   ]
  },
  {
   "cell_type": "code",
   "execution_count": 2,
   "outputs": [
    {
     "name": "stdout",
     "output_type": "stream",
     "text": [
      "Tensorflow version 2.7.1\n",
      "[PhysicalDevice(name='/physical_device:GPU:0', device_type='GPU')]\n"
     ]
    }
   ],
   "source": [
    "import os\n",
    "import pandas as pd\n",
    "import numpy as np\n",
    "import random\n",
    "from matplotlib import pyplot as plt\n",
    "from random import sample\n",
    "import tensorflow as tf\n",
    "from tensorflow.keras.models import Sequential\n",
    "from tensorflow.keras.layers import Dense, Dropout, LSTM, Embedding, Bidirectional\n",
    "\n",
    "from tensorflow.keras.utils import to_categorical\n",
    "from tensorflow.keras.preprocessing.text import Tokenizer\n",
    "from tensorflow.keras.preprocessing.sequence import pad_sequences\n",
    "\n",
    "print(f'Tensorflow version {tf.version.VERSION}')\n",
    "physical_devices = tf.config.list_physical_devices('GPU')\n",
    "print(physical_devices)\n",
    "tf.config.experimental.set_memory_growth(physical_devices[0], True)\n",
    "os.environ['TF_CPP_MIN_LOG_LEVEL'] = '2'"
   ],
   "metadata": {
    "collapsed": false,
    "pycharm": {
     "name": "#%%\n"
    }
   }
  },
  {
   "cell_type": "markdown",
   "source": [
    "## 2. Read Data"
   ],
   "metadata": {
    "collapsed": false,
    "pycharm": {
     "name": "#%% md\n"
    }
   }
  },
  {
   "cell_type": "code",
   "execution_count": 9,
   "outputs": [
    {
     "data": {
      "text/plain": "                                                   tweet  emotion\n19808  listening to muse like crazy till i see them\\u...        2\n73595  Sometimes I play the piano  http://www.myspace...        2\n14254  Celebrate the first day of classes with us tom...        2\n12820  I will consider Arsenal to have the potential ...        2\n249    I am gonna Meryl Streep the fuck out of this t...        1\n25153  John Kasich may be the most genuine of all of ...        2\n28622  @user yep\\u002c wanted to limit it to 1 tweet!...        2\n34171  \"Trump should let whoever comes in 11th place ...        1\n28895  Here are the five Capital One Cup matches toni...        1\n41351  \"1st Giroud, now Kane, lol what a funny day #T...        2",
      "text/html": "<div>\n<style scoped>\n    .dataframe tbody tr th:only-of-type {\n        vertical-align: middle;\n    }\n\n    .dataframe tbody tr th {\n        vertical-align: top;\n    }\n\n    .dataframe thead th {\n        text-align: right;\n    }\n</style>\n<table border=\"1\" class=\"dataframe\">\n  <thead>\n    <tr style=\"text-align: right;\">\n      <th></th>\n      <th>tweet</th>\n      <th>emotion</th>\n    </tr>\n  </thead>\n  <tbody>\n    <tr>\n      <th>19808</th>\n      <td>listening to muse like crazy till i see them\\u...</td>\n      <td>2</td>\n    </tr>\n    <tr>\n      <th>73595</th>\n      <td>Sometimes I play the piano  http://www.myspace...</td>\n      <td>2</td>\n    </tr>\n    <tr>\n      <th>14254</th>\n      <td>Celebrate the first day of classes with us tom...</td>\n      <td>2</td>\n    </tr>\n    <tr>\n      <th>12820</th>\n      <td>I will consider Arsenal to have the potential ...</td>\n      <td>2</td>\n    </tr>\n    <tr>\n      <th>249</th>\n      <td>I am gonna Meryl Streep the fuck out of this t...</td>\n      <td>1</td>\n    </tr>\n    <tr>\n      <th>25153</th>\n      <td>John Kasich may be the most genuine of all of ...</td>\n      <td>2</td>\n    </tr>\n    <tr>\n      <th>28622</th>\n      <td>@user yep\\u002c wanted to limit it to 1 tweet!...</td>\n      <td>2</td>\n    </tr>\n    <tr>\n      <th>34171</th>\n      <td>\"Trump should let whoever comes in 11th place ...</td>\n      <td>1</td>\n    </tr>\n    <tr>\n      <th>28895</th>\n      <td>Here are the five Capital One Cup matches toni...</td>\n      <td>1</td>\n    </tr>\n    <tr>\n      <th>41351</th>\n      <td>\"1st Giroud, now Kane, lol what a funny day #T...</td>\n      <td>2</td>\n    </tr>\n  </tbody>\n</table>\n</div>"
     },
     "execution_count": 9,
     "metadata": {},
     "output_type": "execute_result"
    }
   ],
   "source": [
    "# 1.6 mil tweets but only positive or negative\n",
    "df = pd.read_csv('data/training.1600000.processed.noemoticon.csv', encoding='ISO-8859-1', header=None)\n",
    "df.columns = ['emotion', 'id', 'timestamp', 'query', 'username', 'tweet']\n",
    "df.drop(['id', 'query', 'username'],axis=1)\n",
    "df_sample = df.sample(frac = 1)\n",
    "\n",
    "df2 = pd.read_csv('data/sentimentData2.csv')\n",
    "df2.columns = ['tweet', 'emotion']\n",
    "df2 = df2.sample(frac = 1)\n",
    "df2.head(10)"
   ],
   "metadata": {
    "collapsed": false,
    "pycharm": {
     "name": "#%%\n"
    }
   }
  },
  {
   "cell_type": "markdown",
   "source": [
    "## 3. Tokenizer"
   ],
   "metadata": {
    "collapsed": false,
    "pycharm": {
     "name": "#%% md\n"
    }
   }
  },
  {
   "cell_type": "code",
   "execution_count": 17,
   "outputs": [],
   "source": [
    "dataframe = df2\n",
    "fraction_df = 1\n",
    "len_df = int(dataframe.shape[0])\n",
    "vocab_size = int(1e6)\n",
    "training_size = int(0.7 * len_df)\n",
    "max_length = 50\n",
    "trunc_type = 'post'\n",
    "\n",
    "emos = dataframe['emotion'].to_numpy()\n",
    "#emos = emos // 2\n",
    "#timestamps = dataframe['timestamp'].to_numpy()\n",
    "tweets = dataframe['tweet'].to_numpy()\n",
    "\n",
    "train_sentences = tweets[0:training_size//fraction_df]\n",
    "test_sentences = tweets[training_size//fraction_df:len_df//fraction_df]\n",
    "train_emos = emos[0:training_size//fraction_df]\n",
    "test_emos = emos[training_size//fraction_df:len_df//fraction_df]\n",
    "train_emos = to_categorical(train_emos, 3)\n",
    "test_emos = to_categorical(test_emos, 3)\n",
    "\n",
    "#train_timestamp = timestamps[0:training_size//fraction_df]\n",
    "#train_timestamp = timestamps[training_size//fraction_df:len_df//fraction_df]\n",
    "\n",
    "tokenizer = Tokenizer(num_words = vocab_size, oov_token='<OOV>')\n",
    "tokenizer.fit_on_texts(train_sentences)\n",
    "word_index = tokenizer.word_index\n",
    "\n",
    "train_sequences = tokenizer.texts_to_sequences(train_sentences)\n",
    "train_padded = pad_sequences(train_sequences, maxlen=max_length,\n",
    "                             padding='post', truncating=trunc_type)\n",
    "test_sequences = tokenizer.texts_to_sequences(test_sentences)\n",
    "test_padded = pad_sequences(test_sequences, maxlen=max_length,\n",
    "                            padding='post', truncating=trunc_type)"
   ],
   "metadata": {
    "collapsed": false,
    "pycharm": {
     "name": "#%%\n"
    }
   }
  },
  {
   "cell_type": "markdown",
   "source": [
    "## 4. Model"
   ],
   "metadata": {
    "collapsed": false,
    "pycharm": {
     "name": "#%% md\n"
    }
   }
  },
  {
   "cell_type": "code",
   "execution_count": 18,
   "outputs": [
    {
     "name": "stdout",
     "output_type": "stream",
     "text": [
      "Model: \"sequential_2\"\n",
      "_________________________________________________________________\n",
      " Layer (type)                Output Shape              Param #   \n",
      "=================================================================\n",
      " embedding_2 (Embedding)     (None, 50, 64)            64000000  \n",
      "                                                                 \n",
      " bidirectional_2 (Bidirectio  (None, 128)              66048     \n",
      " nal)                                                            \n",
      "                                                                 \n",
      " dense_4 (Dense)             (None, 64)                8256      \n",
      "                                                                 \n",
      " dense_5 (Dense)             (None, 3)                 195       \n",
      "                                                                 \n",
      "=================================================================\n",
      "Total params: 64,074,499\n",
      "Trainable params: 64,074,499\n",
      "Non-trainable params: 0\n",
      "_________________________________________________________________\n"
     ]
    }
   ],
   "source": [
    "model = Sequential()\n",
    "model.add(Embedding(vocab_size, 64, input_length=max_length))\n",
    "model.add(Bidirectional(LSTM(64)))\n",
    "model.add(Dense(64, activation='relu'))\n",
    "model.add(Dense(3, activation='sigmoid'))\n",
    "\n",
    "opt = tf.keras.optimizers.Adam(learning_rate=2e-4)\n",
    "\n",
    "model.compile(loss='categorical_crossentropy',optimizer=opt, metrics=['accuracy'])\n",
    "model.summary()"
   ],
   "metadata": {
    "collapsed": false,
    "pycharm": {
     "name": "#%%\n"
    }
   }
  },
  {
   "cell_type": "code",
   "execution_count": 19,
   "outputs": [
    {
     "name": "stdout",
     "output_type": "stream",
     "text": [
      "Epoch 1/10\n",
      "1705/1705 [==============================] - 72s 41ms/step - loss: 0.9446 - accuracy: 0.5264 - val_loss: 0.7997 - val_accuracy: 0.6303\n",
      "Epoch 2/10\n",
      "1705/1705 [==============================] - 69s 40ms/step - loss: 0.6972 - accuracy: 0.6957 - val_loss: 0.7752 - val_accuracy: 0.6433\n",
      "Epoch 3/10\n",
      "1705/1705 [==============================] - 69s 40ms/step - loss: 0.5775 - accuracy: 0.7604 - val_loss: 0.7548 - val_accuracy: 0.6623\n",
      "Epoch 4/10\n",
      "1705/1705 [==============================] - 67s 40ms/step - loss: 0.4837 - accuracy: 0.8060 - val_loss: 0.7878 - val_accuracy: 0.6583\n",
      "Epoch 5/10\n",
      "1705/1705 [==============================] - 67s 39ms/step - loss: 0.4066 - accuracy: 0.8435 - val_loss: 0.8691 - val_accuracy: 0.6531\n",
      "Epoch 6/10\n",
      "1705/1705 [==============================] - 67s 40ms/step - loss: 0.3476 - accuracy: 0.8684 - val_loss: 0.9364 - val_accuracy: 0.6459\n",
      "Epoch 7/10\n",
      "1705/1705 [==============================] - 68s 40ms/step - loss: 0.2957 - accuracy: 0.8906 - val_loss: 0.9927 - val_accuracy: 0.6374\n",
      "Epoch 8/10\n",
      "1705/1705 [==============================] - 68s 40ms/step - loss: 0.2568 - accuracy: 0.9069 - val_loss: 1.0781 - val_accuracy: 0.6309\n",
      "Epoch 9/10\n",
      "1705/1705 [==============================] - 68s 40ms/step - loss: 0.2260 - accuracy: 0.9192 - val_loss: 1.2191 - val_accuracy: 0.6238\n",
      "Epoch 10/10\n",
      "1705/1705 [==============================] - 68s 40ms/step - loss: 0.2025 - accuracy: 0.9272 - val_loss: 1.2337 - val_accuracy: 0.6210\n"
     ]
    }
   ],
   "source": [
    "num_epochs = 10\n",
    "history = model.fit(train_padded, train_emos, epochs=num_epochs,\n",
    "                    validation_data=(test_padded, test_emos), verbose=1)"
   ],
   "metadata": {
    "collapsed": false,
    "pycharm": {
     "name": "#%%\n"
    }
   }
  },
  {
   "cell_type": "markdown",
   "source": [
    "## 5. Graphs"
   ],
   "metadata": {
    "collapsed": false,
    "pycharm": {
     "name": "#%% md\n"
    }
   }
  },
  {
   "cell_type": "code",
   "execution_count": 7,
   "outputs": [
    {
     "data": {
      "text/plain": "<Figure size 432x288 with 1 Axes>",
      "image/png": "[encoded data removed]"
     },
     "metadata": {
      "needs_background": "light"
     },
     "output_type": "display_data"
    },
    {
     "data": {
      "text/plain": "<Figure size 432x288 with 1 Axes>",
      "image/png": "[encoded data removed]"
     },
     "metadata": {
      "needs_background": "light"
     },
     "output_type": "display_data"
    }
   ],
   "source": [
    "def plot_graphs(history, string):\n",
    "    plt.plot(history.history[string])\n",
    "    plt.plot(history.history['val_'+string])\n",
    "    plt.xlabel(\"Epochs\")\n",
    "    plt.ylabel(string)\n",
    "    plt.legend([string, 'val_'+string])\n",
    "    plt.show()\n",
    "\n",
    "plot_graphs(history, \"accuracy\")\n",
    "plot_graphs(history, \"loss\")"
   ],
   "metadata": {
    "collapsed": false,
    "pycharm": {
     "name": "#%%\n"
    }
   }
  },
  {
   "cell_type": "code",
   "execution_count": 20,
   "outputs": [
    {
     "name": "stdout",
     "output_type": "stream",
     "text": [
      "[[0.9823025  0.04355055 0.07548778]\n",
      " [0.15416867 0.11521301 0.8919452 ]\n",
      " [0.27311805 0.26791736 0.79272896]]\n"
     ]
    }
   ],
   "source": [
    "predict_sentence = ['I fucking hate everything',\n",
    "                    'I love you a lot',\n",
    "                    'this is a sentence']\n",
    "\n",
    "seq = tokenizer.texts_to_sequences(predict_sentence)\n",
    "predict_padded = pad_sequences(seq, maxlen=max_length,\n",
    "                               padding='post', truncating=trunc_type)\n",
    "\n",
    "pred = model.predict(predict_padded)\n",
    "print(pred)"
   ],
   "metadata": {
    "collapsed": false,
    "pycharm": {
     "name": "#%%\n"
    }
   }
  },
  {
   "cell_type": "code",
   "execution_count": null,
   "outputs": [],
   "source": [],
   "metadata": {
    "collapsed": false,
    "pycharm": {
     "name": "#%%\n"
    }
   }
  }
 ],
 "metadata": {
  "kernelspec": {
   "display_name": "Python 3",
   "language": "python",
   "name": "python3"
  },
  "language_info": {
   "codemirror_mode": {
    "name": "ipython",
    "version": 2
   },
   "file_extension": ".py",
   "mimetype": "text/x-python",
   "name": "python",
   "nbconvert_exporter": "python",
   "pygments_lexer": "ipython2",
   "version": "2.7.6"
  }
 },
 "nbformat": 4,
 "nbformat_minor": 0
}